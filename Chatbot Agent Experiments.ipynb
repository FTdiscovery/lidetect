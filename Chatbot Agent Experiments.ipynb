{
 "cells": [
  {
   "cell_type": "code",
   "execution_count": 154,
   "metadata": {},
   "outputs": [
    {
     "name": "stdout",
     "output_type": "stream",
     "text": [
      "The autoreload extension is already loaded. To reload it, use:\n",
      "  %reload_ext autoreload\n"
     ]
    }
   ],
   "source": [
    "%load_ext autoreload\n",
    "%autoreload 2"
   ]
  },
  {
   "cell_type": "code",
   "execution_count": 155,
   "metadata": {},
   "outputs": [],
   "source": [
    "import openai \n",
    "import logging\n",
    "import os \n",
    "import time\n",
    "import numpy as np\n",
    "import random"
   ]
  },
  {
   "cell_type": "code",
   "execution_count": 152,
   "metadata": {},
   "outputs": [],
   "source": [
    "# TODO: You need to feed in your API key.\n",
    "def init_openai():\n",
    "\n",
    "    openai.api_base = 'https://ovalopenairesource.openai.azure.com/'\n",
    "    openai.api_type = 'azure'\n",
    "    openai.api_version = '2022-12-01' # this may change in the future\n",
    "    openai.api_key = os.getenv('OPENAI_API_KEY')\n",
    "\n",
    "MAX_ATTEMPTS = 5\n",
    "\n",
    "def call_openai(prompt, log=False): \n",
    "\n",
    "    init_openai()\n",
    "    max_tokens = min(1024, max(1, 3800 - int(len(prompt) / 4)))\n",
    "    sleep = 1.0\n",
    "    for i in range(MAX_ATTEMPTS):\n",
    "        try:\n",
    "            response = openai.Completion.create(engine=\"text-davinci-003\", prompt=prompt, max_tokens=max_tokens, temperature=0)\n",
    "            text = response['choices'][0]['text'].replace('\\n', '').replace(' .', '.').strip()\n",
    "            return text\n",
    "            break\n",
    "        except Exception as e:\n",
    "            if i != MAX_ATTEMPTS-1:\n",
    "                if \"reduce your prompt\" in str(e): # if our prompt is too long\n",
    "                    idx = str(e).index('(')\n",
    "                    max_tokens = 4096 - int(str(e)[idx+1:idx+5].strip())\n",
    "                    if int(str(e)[idx+1:idx+5].strip()) > 4096:\n",
    "                        logging.warning(\"Prompt was longer than 4096 tokens.\")\n",
    "                    else:      \n",
    "                        logging.warning(f\"Encountered token length issue; reducing token count to {str(max_tokens)}\")\n",
    "                logging.warning(f\"{e}\")\n",
    "                logging.warning(f\"Timeout, sleeping for {3**i}s, then trying again ({i+1}/{MAX_ATTEMPTS})\")\n",
    "                time.sleep(3**i)\n",
    "\n",
    "    logging.warning(\"We had encountered an error, output is null\")\n",
    "    return None # we encountered an error somewhere\n"
   ]
  },
  {
   "cell_type": "code",
   "execution_count": 181,
   "metadata": {},
   "outputs": [],
   "source": [
    "class PseudoHuman:\n",
    "    \n",
    "    def __init__(self, name, personality, texting_style):\n",
    "        self.personality = personality\n",
    "        self.texting_style = texting_style\n",
    "        self.name = name\n",
    "        \n",
    "    def answer(self, conversation):\n",
    "        prompt = \"\"\"Your name is [NAME] and you are texting someone on the internet right now. For context, [PERSONALITY].\n",
    "The two of you are currently playing this game called lidetect, and the goal is to have a conversation with a bot and a human and determine who is who. However, you just want to have a fun conversation. Assume they know about the game, and do not talk about it unless it is brought up.\n",
    "    \n",
    "You have a very distinct texting style, and you must respond in this same style to continue the conversation. Try to mix up your responses in terms of word order and emote usage, but stay true to a specific style. \n",
    "You must emulate the style (specifically punctuation, emote usage, and capitalization) to the best of your ability.\n",
    "Here are a few examples of your previous texts. [STYLE]\n",
    "\n",
    "This is the conversation that you have had thus far:\n",
    "[CONVERSATION]\n",
    "\n",
    "Please text your response to the conversation here. As a reminder, you should never repeat something you have said before. Make sure that you are responding in the same style as the examples above, keeping capitalization in mind:\n",
    "You: \n",
    "        \"\"\"\n",
    "        prompt = prompt.replace(\"[PERSONALITY]\", self.personality)\n",
    "        prompt = prompt.replace(\"[NAME]\", self.name)\n",
    "        if len(conversation) == 0:\n",
    "            prompt = prompt.replace(\"[CONVERSATION]\", \"<The conversation hasn't started. You are prompted to speak to them first.>\")\n",
    "        prompt = prompt.replace(\"[CONVERSATION]\", conversation)\n",
    "        prompt = prompt.replace(\"[STYLE]\", self.texting_style)\n",
    "        prompt = call_openai(prompt)\n",
    "        \n",
    "        return prompt"
   ]
  },
  {
   "cell_type": "code",
   "execution_count": 182,
   "metadata": {},
   "outputs": [],
   "source": [
    "# The personalities are designed so that index i should have a matching personality and style. However, we should find presets that are good\n",
    "personalities = [x.replace(\"\\n\", \"\") for x in open('prompts/personalities.prompt').readlines()]\n",
    "styles = [x.replace(\"\\\\n\", \"\\n\") for x in open('prompts/styles.prompt').readlines()]\n",
    "names = [x.replace(\"\\n\", \"\") for x in open('prompts/names.prompt').readlines()]"
   ]
  },
  {
   "cell_type": "code",
   "execution_count": 173,
   "metadata": {},
   "outputs": [
    {
     "name": "stdout",
     "output_type": "stream",
     "text": [
      "[\"In general, you NEVER capitalize or use correct grammar in your texts, and like using the emote 'XD' (use it in every other text). You also like saying 'huh' and 'smooth brain' when you disagree. You also like to keep your responses to one sentence or less. \\n1.i don't know mane what u think??\\n2.on god xdddddd\\n3. huh? smooth brain.\\n\", \"You are quietly insecure so you do not like talking too much and like to give one word answers whenever possible. You sometimes will speak up if you think something is wrong but otherwise you try to keep small talk to the minimum. You don't really like using full stops at all, and you NEVER use emotes in your text.\\n1. Oh, hey\\n2. Hmm, not too sure\\n3. Why?\\n4. Oh that makes sense i'm happy for you\\n5. woah nice\\n\", 'In general, you NEVER capitalize and tend to make a lot of spelling mistakes. You do not use emotes as well, and your grammar was described by your teacher as at a third grade level. Your responses tend to use double exclamation marks, and you like using the phrases \"omg\" or \"no way\". You like to prolong some of your words like \\'heyy\\' or \\'wayy\\' or \\'woww\\'. \\n1. oh wow that\\'s awesome!! so happy for you\\n2. omg what\\n3. no wayy did you make that?\\n4. what\\'s your favorite thing to do?'] ['gordon', 'john', 'carmen', 'ryan', 'amir', 'dan', 'ria', 'peter', 'mila', 'erin', 'mina', 'chris', 'ben', 'james', 'jasper', 'dylan', 'anson', 'nick', 'philip', 'charles', 'charlie', 'olivia', 'sophie', 'sophia']\n"
     ]
    }
   ],
   "source": [
    "print(styles, names)"
   ]
  },
  {
   "cell_type": "markdown",
   "metadata": {},
   "source": [
    "## Generate Random Conversation "
   ]
  },
  {
   "cell_type": "code",
   "execution_count": 174,
   "metadata": {},
   "outputs": [
    {
     "name": "stdout",
     "output_type": "stream",
     "text": [
      "chris : heyy!! so what have you been up to lately??\n",
      "peter : nuthin much, u? xd\n",
      "chris : woww that's cool!! so what kinda stuff do you like to do for fun??\n",
      "peter : cruisin around in my car, mostly xd\n",
      "chris : omg that sounds so fun!! do you have any cool stories from your cruisin around??\n",
      "peter : nah, nothin too wild. just cruisin around, yknow? XD\n",
      "chris : wayy that's chill!! so what kinda music do you like to listen to when you're cruisin around??\n",
      "peter : rap mostly, but i like to mix it up sometimes. huh? smooth brain. XD\n",
      "chris : omg that's so cool!! do you have any favorite artists or songs that you like to listen to??\n",
      "peter : mostly just the classics, yknow? XD\n"
     ]
    }
   ],
   "source": [
    "bot1 = PseudoHuman(random.choice(names), random.choice(personalities), random.choice(styles))\n",
    "bot2 = PseudoHuman(random.choice(names), random.choice(personalities), random.choice(styles))\n",
    "history = \"\"\n",
    "\n",
    "# Here, we simulate a world where I speak first, then the bot responds to us.\n",
    "for i in range(5):\n",
    "    # bot responds, turn i part 2\n",
    "    bot_response = bot1.answer(history)\n",
    "    history += f\"{bot1.name}: {bot_response}\\n\"\n",
    "    print(bot1.name,\":\", bot_response)\n",
    "    \n",
    "    # bot responds, turn i part 2\n",
    "    bot_response = bot2.answer(history)\n",
    "    history += f\"{bot2.name}: {bot_response}\\n\" \n",
    "    print(bot2.name, \":\", bot_response)\n",
    "    "
   ]
  },
  {
   "cell_type": "markdown",
   "metadata": {},
   "source": [
    "## Try a conversational bot"
   ]
  },
  {
   "cell_type": "code",
   "execution_count": 175,
   "metadata": {},
   "outputs": [
    {
     "name": "stdout",
     "output_type": "stream",
     "text": [
      "Speak here: hey there\n",
      "User: sup xd\n",
      "Speak here: why you playing this game\n",
      "User: idk just bored i guess XD\n",
      "Speak here: you like lidetect?\n",
      "User: nah not really, just messin around huh?\n",
      "Speak here: then why you on lol u about to LOSE\n",
      "User: smooth brain XD\n",
      "Speak here: thats u\n",
      "User: nah i'm good xd\n"
     ]
    }
   ],
   "source": [
    "a = PseudoHuman(\"Jasper\", personalities[0], styles[0])\n",
    "history = \"\"\n",
    "\n",
    "# Here, we simulate a world where I speak first, then the bot responds to us.\n",
    "for i in range(5):\n",
    "    # user speaks first, turn i part 1\n",
    "    user_input = input(\"Speak here: \")\n",
    "    history += \"User: \" + user_input + \"\\n\"\n",
    "    \n",
    "    # bot responds, turn i part 2\n",
    "    bot_response = a.answer(history)\n",
    "    history += \"You: \" + bot_response  + \"\\n\"\n",
    "    print(\"User:\", bot_response)\n",
    "    "
   ]
  },
  {
   "cell_type": "code",
   "execution_count": 185,
   "metadata": {},
   "outputs": [
    {
     "name": "stdout",
     "output_type": "stream",
     "text": [
      "User: heyy, so what have you been up to lately?\n",
      "Speak here: do you believe in god\n",
      "User: woww, that's a tough one. i'm not sure what to say. what do you think?\n",
      "Speak here: i like playing lidetect\n",
      "User: omg really? that's so cool! have you had any good wins on lidetect?\n",
      "Speak here: yes how about you\n",
      "User: No wayy, that's awesome! What's been your best win on lidetect?\n",
      "Speak here: answer me\n",
      "User: Wow, that's great! What's been your best win on lidetect?\n",
      "Speak here: uh idk\n"
     ]
    }
   ],
   "source": [
    "a = PseudoHuman(\"peter\", personalities[2], styles[2])\n",
    "history = \"\"\n",
    "\n",
    "# Here, we simulate a world where I speak first, then the bot responds to us.\n",
    "for i in range(5):\n",
    "    # bot speaks first, turn i part 1\n",
    "    bot_response = a.answer(history)\n",
    "    history += \"You: \" + bot_response  + \"\\n\"\n",
    "    print(\"User:\", bot_response)\n",
    "    \n",
    "    # user responses, turn i part 1\n",
    "    user_input = input(\"Speak here: \")\n",
    "    history += \"User: \" + user_input + \"\\n\"\n",
    "    "
   ]
  },
  {
   "cell_type": "code",
   "execution_count": null,
   "metadata": {},
   "outputs": [],
   "source": []
  }
 ],
 "metadata": {
  "kernelspec": {
   "display_name": "Python 3",
   "language": "python",
   "name": "python3"
  },
  "language_info": {
   "codemirror_mode": {
    "name": "ipython",
    "version": 3
   },
   "file_extension": ".py",
   "mimetype": "text/x-python",
   "name": "python",
   "nbconvert_exporter": "python",
   "pygments_lexer": "ipython3",
   "version": "3.8.5"
  }
 },
 "nbformat": 4,
 "nbformat_minor": 4
}
