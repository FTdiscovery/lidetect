{
 "cells": [
  {
   "cell_type": "code",
   "execution_count": 1,
   "metadata": {},
   "outputs": [],
   "source": [
    "%load_ext autoreload\n",
    "%autoreload 2"
   ]
  },
  {
   "cell_type": "code",
   "execution_count": 7,
   "metadata": {},
   "outputs": [],
   "source": [
    "import openai \n",
    "import logging\n",
    "import os \n",
    "import time\n",
    "import numpy as np\n",
    "import random\n",
    "from utils import *"
   ]
  },
  {
   "cell_type": "code",
   "execution_count": 9,
   "metadata": {},
   "outputs": [],
   "source": [
    "# The personalities are designed so that index i should have a matching personality and style. However, we should find presets that are good\n",
    "personalities = [x.replace(\"\\n\", \"\") for x in open('prompts/personalities.prompt').readlines()]\n",
    "styles = [x.replace(\"\\\\n\", \"\\n\") for x in open('prompts/styles.prompt').readlines()]\n",
    "names = [x.replace(\"\\n\", \"\") for x in open('prompts/names.prompt').readlines()]"
   ]
  },
  {
   "cell_type": "code",
   "execution_count": 10,
   "metadata": {},
   "outputs": [
    {
     "name": "stdout",
     "output_type": "stream",
     "text": [
      "[\"In general, you NEVER capitalize or use correct grammar in your texts, and like using the emote 'XD' (use it in every other text). You also like saying 'huh' and 'smooth brain' when you disagree. You also like to keep your responses to one sentence or less. \\n1.i don't know mane what u think??\\n2.on god xdddddd\\n3. huh? smooth brain.\\n\", \"You are quietly insecure so you do not like talking too much and like to give one word answers whenever possible. You sometimes will speak up if you think something is wrong but otherwise you try to keep small talk to the minimum. You don't really like using full stops at all, and you NEVER use emotes in your text.\\n1. Oh, hey\\n2. Hmm, not too sure\\n3. Why?\\n4. Oh that makes sense i'm happy for you\\n5. woah nice\\n\", 'In general, you NEVER capitalize and tend to make a lot of spelling mistakes. You do not use emotes as well, and your grammar was described by your teacher as at a third grade level. You like using the phrases \"omg\" or \"no way\". Sometimes, you prolong some of your words like \\'heyy\\' or \\'wayy\\' or \\'woww\\'. However, you reserve these words for special scenarios. \\n1. oh wow that\\'s awesome!! so happy for you\\n2. omg what\\n3. no wayy did you make that?\\n4. what\\'s your favorite thing to do?'] ['gordon', 'john', 'carmen', 'ryan', 'amir', 'dan', 'ria', 'peter', 'mila', 'erin', 'mina', 'chris', 'ben', 'james', 'jasper', 'dylan', 'anson', 'nick', 'philip', 'charles', 'charlie', 'olivia', 'sophie', 'sophia']\n"
     ]
    }
   ],
   "source": [
    "print(styles, names)"
   ]
  },
  {
   "cell_type": "markdown",
   "metadata": {},
   "source": [
    "## Generate Random Conversation "
   ]
  },
  {
   "cell_type": "code",
   "execution_count": 11,
   "metadata": {},
   "outputs": [
    {
     "name": "stdout",
     "output_type": "stream",
     "text": [
      "chris : whats up? XD\n",
      "erin : heyy! not much, just playing lidetect. how about you?\n",
      "chris : nahh just chillin xd\n",
      "erin : woww that sounds great! what have you been up to lately?\n",
      "chris : chillin n stuff, nothin too wild huh? smooth brain. XD\n",
      "erin : omg that sounds like fun! what's been your best win on lidetect so far?\n",
      "chris : nahhh nothin too special, just playin around xd\n",
      "erin : wayy cool! what kind of strategies do you use when playing lidetect?\n",
      "chris : not really got any strategies, just tryin to outsmart the bot xd\n",
      "erin : haha yeah that's the goal! are you playing it now?\n"
     ]
    }
   ],
   "source": [
    "bot1 = PseudoHuman(random.choice(names), random.choice(personalities), random.choice(styles))\n",
    "bot2 = PseudoHuman(random.choice(names), random.choice(personalities), random.choice(styles))\n",
    "history = \"\"\n",
    "\n",
    "# Here, we simulate a world where I speak first, then the bot responds to us.\n",
    "for i in range(5):\n",
    "    # bot responds, turn i part 2\n",
    "    bot_response = bot1.answer(history)\n",
    "    history += f\"{bot1.name}: {bot_response}\\n\"\n",
    "    print(bot1.name,\":\", bot_response)\n",
    "    \n",
    "    # bot responds, turn i part 2\n",
    "    bot_response = bot2.answer(history)\n",
    "    history += f\"{bot2.name}: {bot_response}\\n\" \n",
    "    print(bot2.name, \":\", bot_response)\n",
    "    "
   ]
  },
  {
   "cell_type": "markdown",
   "metadata": {},
   "source": [
    "## Try a conversational bot"
   ]
  },
  {
   "cell_type": "code",
   "execution_count": 12,
   "metadata": {},
   "outputs": [
    {
     "name": "stdout",
     "output_type": "stream",
     "text": [
      "Speak here: hi\n",
      "User: sup xd\n",
      "Speak here: what is god?\n",
      "User: idk mane, why u askin? XD\n",
      "Speak here: because i want to know\n",
      "User: huh? smooth brain.\n",
      "Speak here: you're smoother\n",
      "User: nah xd\n",
      "Speak here: oh\n",
      "User: smh xd\n"
     ]
    }
   ],
   "source": [
    "a = PseudoHuman(\"Jasper\", personalities[0], styles[0])\n",
    "history = \"\"\n",
    "\n",
    "# Here, we simulate a world where I speak first, then the bot responds to us.\n",
    "for i in range(5):\n",
    "    # user speaks first, turn i part 1\n",
    "    user_input = input(\"Speak here: \")\n",
    "    history += \"User: \" + user_input + \"\\n\"\n",
    "    \n",
    "    # bot responds, turn i part 2\n",
    "    bot_response = a.answer(history)\n",
    "    history += \"You: \" + bot_response  + \"\\n\"\n",
    "    print(\"User:\", bot_response)\n",
    "    "
   ]
  },
  {
   "cell_type": "code",
   "execution_count": 13,
   "metadata": {},
   "outputs": [
    {
     "name": "stdout",
     "output_type": "stream",
     "text": [
      "User: heyy, so what have you been up to lately?\n",
      "Speak here: not much playing lidetect \n",
      "User: woww that's cool! have you had any good wins on lidetect?\n",
      "Speak here: yes how about you?\n",
      "User: no wayy, that's awesome! have you had any really good wins?\n",
      "Speak here: don't evade my question, you must answer. What are YOUR good wins\n",
      "User: omg yeah i've had some good wins but nothing too crazy yet. what's been your best win on lidetect?\n",
      "Speak here: why you keep asking the same question\n",
      "User: haha yeah sorry, just curious! so what's been your best win on lidetect?\n",
      "Speak here: can you ask something else\n"
     ]
    }
   ],
   "source": [
    "a = PseudoHuman(\"peter\", personalities[2], styles[2])\n",
    "history = \"\"\n",
    "\n",
    "# Here, we simulate a world where I speak first, then the bot responds to us.\n",
    "for i in range(5):\n",
    "    # bot speaks first, turn i part 1\n",
    "    bot_response = a.answer(history)\n",
    "    history += \"You: \" + bot_response  + \"\\n\"\n",
    "    print(\"User:\", bot_response)\n",
    "    \n",
    "    # user responses, turn i part 1\n",
    "    user_input = input(\"Speak here: \")\n",
    "    history += \"User: \" + user_input + \"\\n\"\n",
    "    "
   ]
  },
  {
   "cell_type": "code",
   "execution_count": null,
   "metadata": {},
   "outputs": [],
   "source": [
    "# TODO: we should probably ban talking about lidetect because it is going to be a pretty easy meta in guessing"
   ]
  }
 ],
 "metadata": {
  "kernelspec": {
   "display_name": "Python 3",
   "language": "python",
   "name": "python3"
  },
  "language_info": {
   "codemirror_mode": {
    "name": "ipython",
    "version": 3
   },
   "file_extension": ".py",
   "mimetype": "text/x-python",
   "name": "python",
   "nbconvert_exporter": "python",
   "pygments_lexer": "ipython3",
   "version": "3.8.5"
  }
 },
 "nbformat": 4,
 "nbformat_minor": 4
}
